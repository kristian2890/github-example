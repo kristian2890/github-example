{
 "cells": [
  {
   "cell_type": "markdown",
   "metadata": {},
   "source": [
    "# Week 3 Capstone Project Assignment "
   ]
  },
  {
   "cell_type": "markdown",
   "metadata": {},
   "source": [
    "## Table of contents\n",
    "* [Introduction: Business Problem](#Introduction)\n",
    "* [Data](#Data)\n",
    "* [Methodology](#Methodology)\n",
    "* [Analysis](#Analysis)\n",
    "* [Results and Discussion](#Results)\n",
    "* [Conclusion](#Conclusion)"
   ]
  },
  {
   "cell_type": "markdown",
   "metadata": {},
   "source": [
    "# Introduction"
   ]
  },
  {
   "cell_type": "markdown",
   "metadata": {},
   "source": [
    "**A description of the problem and a discussion of the background**\n"
   ]
  },
  {
   "cell_type": "markdown",
   "metadata": {},
   "source": [
    "As part of the Applied Data Science Capstone by IBM Coursera course, this data science project will focus on using data in order to __identify the optimal location for a new tourist accomodation service (hotel) in Copenhagen, Denmark__. To find the optimal location, the project will look into the following parameters:\n",
    "- __placement__ (i.e. low competitive proximity and short distance to city center)\n",
    "- __strategy__ (i.e. pricing, unique selling point etc)  \n",
    "\n",
    "The analysis will start of with an exploratory analysis of the differences between the different neighborhoods in Copenhagen. Then a unsupervised machine learning model (k-means) will be used to find new relations between the listings in order to identify the optimal location for a new accomodation service (hotel) in COpehagen. \n",
    "\n",
    "As such, this report is heavily relevant for aspiring new start-ups in the accomodation service in the capital of Denmark. \n",
    "\n",
    "The background for this project, is that I myself live in Copenhagen, where peer-to-peer accomodation services (primarily AirBnB) have become an increasingly popular way for tourists to visit the city. I use AirBnB myself for hosting tourists, but find that the market for accomodations are heavily skewed in the city, with areas with low or no accomodation offers. Therefore, it seems likely that their exists and unexploited potential here for new business to grow in a city, which is currently heavily renewing several neighbourhoods.\n",
    "\n"
   ]
  },
  {
   "cell_type": "markdown",
   "metadata": {},
   "source": [
    "# Data"
   ]
  },
  {
   "cell_type": "markdown",
   "metadata": {},
   "source": [
    "**A description of the data and how it will be used to solve the problem**"
   ]
  },
  {
   "cell_type": "markdown",
   "metadata": {},
   "source": [
    "For this project, the following data sources will be used: \n",
    "- __Foursquare__ (API)\n",
    "    - This project will use the search endpoint of the Foursquare data api to extract __data on the professional accomodation service providers in Copenhagen__ (hotels, inns, hostels, bed & breakfasts etc.).  With this data, it should be possible to identifiy the competitive situation in different areas of the city (proximity, distance to city center). \n",
    "- __AirBnB__ _(can be accessed through this [link](http://insideairbnb.com/get-the-data.html))_\n",
    "    - This project uses the public available AirBnB data (insideairbnb). Specifically, this project will use the __listings.csv.gz__, which is a dataset of listings in Copenhagen with data on the hosts' ratings, location and apartment/home characteristics. With this data, it is possible to identify areas with relative more accomodations (popular areas) as well as areas with competitive advantages in terms of the different ratings (placement, value for money etc.) the accomodations have received. \n",
    "    - From the AirBnB page it is also possible to download a __Neighborhoods__ geojson file, which contains info on the neighborhood data for Copenhagen. This is used in order to map the different data analysis plots on a geographical map to better visualize the differences between the different neighborhoods. \n",
    "\n"
   ]
  }
 ],
 "metadata": {
  "kernelspec": {
   "display_name": "Python 3",
   "language": "python",
   "name": "python3"
  },
  "language_info": {
   "codemirror_mode": {
    "name": "ipython",
    "version": 3
   },
   "file_extension": ".py",
   "mimetype": "text/x-python",
   "name": "python",
   "nbconvert_exporter": "python",
   "pygments_lexer": "ipython3",
   "version": "3.7.3"
  }
 },
 "nbformat": 4,
 "nbformat_minor": 4
}
